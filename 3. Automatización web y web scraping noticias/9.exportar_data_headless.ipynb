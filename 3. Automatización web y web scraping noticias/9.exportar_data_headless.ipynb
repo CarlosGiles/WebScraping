{
 "cells": [
  {
   "cell_type": "markdown",
   "metadata": {},
   "source": [
    "# Función headless\n",
    "\n",
    "En el código anterior hicimos que **selenium** abriera un buscador y comenzara la extración de data. Podemos hacer que todo se haga en segundo plano por medio de la librería **options**."
   ]
  },
  {
   "cell_type": "code",
   "execution_count": 2,
   "metadata": {},
   "outputs": [],
   "source": [
    "from selenium import webdriver\n",
    "#importamos options\n",
    "from selenium.webdriver.chrome.options import Options\n",
    "from selenium.webdriver.chrome.service import Service\n",
    "import pandas as pd\n",
    "\n",
    "website = \"https://www.thesun.co.uk/sport/football/\"\n",
    "path = \"C:/Users/Carlos Giles/Documents/Herramientas/chromedriver\"\n",
    "\n",
    "# agregar headless mode\n",
    "opciones = Options()\n",
    "# el headless por defecto está en falso\n",
    "opciones.headless = True\n",
    "service = Service(executable_path=path)\n",
    "# agregamos parámetros\n",
    "driver = webdriver.Chrome(service=service, options=opciones)\n",
    "driver.get(website)\n",
    "\n",
    "containers = driver.find_elements(by=\"xpath\", value='//div[@class=\"teaser__copy-container\"]')\n",
    "\n",
    "titulos = []\n",
    "subtitulos = []\n",
    "links = []\n",
    "for container in containers:\n",
    "    titulo = container.find_element(by=\"xpath\", value='./a/h2').text\n",
    "    subtitulo = container.find_element(by=\"xpath\", value='./a/p').text\n",
    "    link = container.find_element(by=\"xpath\", value='./a').get_attribute(\"href\")\n",
    "    titulos.append(titulo)\n",
    "    subtitulos.append(subtitulo)\n",
    "    links.append(link)\n",
    "\n",
    "driver.quit()\n",
    "\n",
    "mi_diccionario = {'titulo': titulos, 'subtitulo': subtitulos, 'link': links}\n",
    "df_noticias = pd.DataFrame(mi_diccionario)\n",
    "# para identificar el archivo\n",
    "df_noticias.to_csv('noticias-headless.csv')"
   ]
  }
 ],
 "metadata": {
  "kernelspec": {
   "display_name": "Python 3.10.5 64-bit",
   "language": "python",
   "name": "python3"
  },
  "language_info": {
   "codemirror_mode": {
    "name": "ipython",
    "version": 3
   },
   "file_extension": ".py",
   "mimetype": "text/x-python",
   "name": "python",
   "nbconvert_exporter": "python",
   "pygments_lexer": "ipython3",
   "version": "3.10.5"
  },
  "orig_nbformat": 4,
  "vscode": {
   "interpreter": {
    "hash": "0f1e7454989977e67024e29629c272aec4481f16d732c3b04e0afc459660b12c"
   }
  }
 },
 "nbformat": 4,
 "nbformat_minor": 2
}
