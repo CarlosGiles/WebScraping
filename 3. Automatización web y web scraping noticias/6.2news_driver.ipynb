{
 "cells": [
  {
   "cell_type": "markdown",
   "metadata": {},
   "source": [
    "# Creación del drive para Google Chrome\n",
    "\n",
    "El drive es el script que abrirá el explorador de Google con la página de la que queremos automatizar las noticias.\n",
    "\n",
    "Para llevar acabo esta tarea será necesario contar con el [chromedriver](https://chromedriver.chromium.org/downloads), descargamos la versión de este programa de acuerdo de [Google Chrome](chrome://settings/help) que tenemos: \n",
    "\n",
    "* Versión de Chrome\n",
    "\n",
    "![image](https://user-images.githubusercontent.com/92232878/182684565-0ae5bdc2-fb75-4b8b-aec2-8bce5ba88ff7.png)\n",
    "\n",
    "* Versión de Chromedriver\n",
    "\n",
    "![image](https://user-images.githubusercontent.com/92232878/182684894-e2219a53-455d-4392-8790-5d6b183d689a.png)\n",
    "\n",
    "* Descarga dependiendo del sistema operativo\n",
    "\n",
    "![image](https://user-images.githubusercontent.com/92232878/182685236-cc4c12fe-a445-448b-8a1c-a2d69de8f289.png)\n",
    "\n",
    "* El archivo descargado deberá ser extraído y ubicar la carpeta resultante en un directorio destinto a ***Program Files*** y ***Program Files(x86)***\n",
    "\n",
    "![image](https://user-images.githubusercontent.com/92232878/182685832-9bbdcad8-7494-4a03-b4a4-620197b99144.png)"
   ]
  },
  {
   "cell_type": "markdown",
   "metadata": {},
   "source": [
    "## Instalación de Selenium\n",
    "\n",
    "Basta con abrir la terminal del sistema y ejecutar, en Windows: pip install selenium\n",
    "\n",
    "![image](https://user-images.githubusercontent.com/92232878/182686821-62d8617b-25b5-40e9-9917-bcb48e35418b.png)\n",
    "\n",
    "Eso es lo necesario para comenzar el código, cabe aclarar que, ***chromedriver*** es un software de pruebas automatizadas que nos ayuda a controlar el explorador Crome y ***Selenium*** es el módulo de Python que ayuda a automatizar procesos.\n",
    "\n",
    "Probamos el siguiente script:"
   ]
  },
  {
   "cell_type": "code",
   "execution_count": 1,
   "metadata": {},
   "outputs": [],
   "source": [
    "\"\"\"\n",
    "Importaciones necesarias\n",
    "\"\"\"\n",
    "from importlib.resources import path\n",
    "from selenium import webdriver\n",
    "from selenium.webdriver.chrome.service import Service\n",
    "\n",
    "# Definimos la variable que almacena el link de la página de interés\n",
    "website = \"https://www.thesun.co.uk/sport/football/\"\n",
    "# creamos el obj path con la ruta del chromedrive que descargamos\n",
    "path = \"C:/Users/Carlos Giles/Documents/Herramientas/chromedriver\"\n",
    "\n",
    "# variable con la función que abrirá el path\n",
    "service=Service(executable_path=path)\n",
    "#varuabe con la función de selenium que usa al webdriver\n",
    "driver=webdriver.Chrome(service=service)\n",
    "#se ejecuta con get y abre el link de la variable website\n",
    "driver.get(website)"
   ]
  },
  {
   "cell_type": "markdown",
   "metadata": {},
   "source": [
    "Al ejecutar el script anterior se nos abrirá una ventana de Google Chrome que incluso nos aclara estar siendo controlada por chromedrive:\n",
    "\n",
    "![image](https://user-images.githubusercontent.com/92232878/182687586-5d4dccfd-3c3c-4b2c-84bc-b1e09df4d420.png)"
   ]
  }
 ],
 "metadata": {
  "kernelspec": {
   "display_name": "Python 3.10.5 64-bit",
   "language": "python",
   "name": "python3"
  },
  "language_info": {
   "codemirror_mode": {
    "name": "ipython",
    "version": 3
   },
   "file_extension": ".py",
   "mimetype": "text/x-python",
   "name": "python",
   "nbconvert_exporter": "python",
   "pygments_lexer": "ipython3",
   "version": "3.10.5"
  },
  "orig_nbformat": 4,
  "vscode": {
   "interpreter": {
    "hash": "0f1e7454989977e67024e29629c272aec4481f16d732c3b04e0afc459660b12c"
   }
  }
 },
 "nbformat": 4,
 "nbformat_minor": 2
}
