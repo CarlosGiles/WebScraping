{
 "cells": [
  {
   "cell_type": "markdown",
   "metadata": {},
   "source": [
    "# Exportar data a un CSV\n",
    "\n",
    "Se utilizará el código anterior pero además se crean 3 listas para almacenar los datos. El notebook anterior contiene el código comentado.\n",
    "\n",
    "Se necesita la librería de **pandas** para crear un dataframe y exportar los datos, para ello, instalamos desde la consola o cmd escribiendo el comando: ***pip install pandas***\n",
    "\n",
    "![image](https://user-images.githubusercontent.com/92232878/182954330-be738963-dea1-484f-98da-d4dca5874e21.png)\n",
    "\n",
    "para enseguida importar la librería."
   ]
  },
  {
   "cell_type": "code",
   "execution_count": 1,
   "metadata": {},
   "outputs": [
    {
     "data": {
      "text/plain": [
       "'\\nLuego de ejecutar el script, el archivo .csv estará en la carpeta donde tenemos este notebook\\n'"
      ]
     },
     "execution_count": 1,
     "metadata": {},
     "output_type": "execute_result"
    }
   ],
   "source": [
    "from importlib.resources import path\n",
    "from selenium import webdriver\n",
    "from selenium.webdriver.chrome.service import Service\n",
    "import pandas as pd\n",
    "\n",
    "website = \"https://www.thesun.co.uk/sport/football/\"\n",
    "path = \"C:/Users/Carlos Giles/Documents/Herramientas/chromedriver\"\n",
    "\n",
    "service=Service(executable_path=path)\n",
    "driver=webdriver.Chrome(service=service)\n",
    "driver.get(website)\n",
    "\n",
    "containers=driver.find_elements(by=\"xpath\", value='//div[@class=\"teaser__copy-container\"]')\n",
    "\n",
    "titulos=[]\n",
    "subtitulos=[]\n",
    "links=[]\n",
    "\n",
    "for container in containers:\n",
    "    titulo=container.find_element(by=\"xpath\", value='./a/h2').text\n",
    "    subtitulo=container.find_element(by=\"xpath\", value='./a/p').text\n",
    "    link=container.find_element(by=\"xpath\", value='./a').get_attribute(\"href\")\n",
    "\n",
    "    titulos.append(titulo)\n",
    "    subtitulos.append(subtitulo)\n",
    "    links.append(link)\n",
    "\n",
    "#Cerramos el explorador luego de que termina el proceso de extracción de datos\n",
    "driver.quit()\n",
    "\n",
    "#creamos diccionario con las listas\n",
    "diccionario={'titulo':titulos,'subtitulo':subtitulos,'link':links,}\n",
    "#creamos datframe con el diccionario usando la función de pandas\n",
    "df_news=pd.DataFrame(diccionario)\n",
    "#hacemos la importación\n",
    "df_news.to_csv('noticias_sun.csv')\n",
    "\n",
    "\"\"\"\n",
    "Luego de ejecutar el script, el archivo .csv estará en la carpeta donde tenemos este notebook\n",
    "\"\"\""
   ]
  }
 ],
 "metadata": {
  "kernelspec": {
   "display_name": "Python 3.10.5 64-bit",
   "language": "python",
   "name": "python3"
  },
  "language_info": {
   "codemirror_mode": {
    "name": "ipython",
    "version": 3
   },
   "file_extension": ".py",
   "mimetype": "text/x-python",
   "name": "python",
   "nbconvert_exporter": "python",
   "pygments_lexer": "ipython3",
   "version": "3.10.5"
  },
  "orig_nbformat": 4,
  "vscode": {
   "interpreter": {
    "hash": "0f1e7454989977e67024e29629c272aec4481f16d732c3b04e0afc459660b12c"
   }
  }
 },
 "nbformat": 4,
 "nbformat_minor": 2
}
