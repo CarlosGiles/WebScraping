{
 "cells": [
  {
   "cell_type": "markdown",
   "metadata": {},
   "source": [
    "# Renombrar archivos y obtener rutas\n",
    "\n",
    "Se creará el objeto tipo Path llamado path que define una carpeta test. Las carpeta \"test\" ya fue creada en el\n",
    "directorio manualmente, el código siguiente solo le cambiará el nombre por \"nuevo_test\""
   ]
  },
  {
   "cell_type": "code",
   "execution_count": 1,
   "metadata": {},
   "outputs": [
    {
     "data": {
      "text/plain": [
       "WindowsPath('nuevo_test')"
      ]
     },
     "execution_count": 1,
     "metadata": {},
     "output_type": "execute_result"
    }
   ],
   "source": [
    "from pathlib import Path\n",
    "\n",
    "# 1. Renombrar nombre carpeta\n",
    "path = Path('test')\n",
    "path.rename('nuevo_test')"
   ]
  },
  {
   "cell_type": "markdown",
   "metadata": {},
   "source": [
    "## Renombrar archivos dentro de una carpeta\n",
    "\n",
    "Tenemos un archivo de texto lamado gastos.txt y cambiaremos el nombre a gastos-enero.txt. Para ellos creamos el objeto path\n",
    "con la ruta del archivo y en un nuevo objeto llamado nuevo_nombre_path, que utiliza el método .with_name(), indicamos \n",
    "el nuevo nombre."
   ]
  },
  {
   "cell_type": "code",
   "execution_count": 2,
   "metadata": {},
   "outputs": [
    {
     "name": "stdout",
     "output_type": "stream",
     "text": [
      "nuevo_test\\gastos-enero.txt\n"
     ]
    },
    {
     "data": {
      "text/plain": [
       "WindowsPath('nuevo_test/gastos-enero.txt')"
      ]
     },
     "execution_count": 2,
     "metadata": {},
     "output_type": "execute_result"
    }
   ],
   "source": [
    "# 2. Renombrar archivo dentro de una carpeta\n",
    "path = Path('nuevo_test/gastos.txt')\n",
    "nuevo_nombre_path = path.with_name('gastos-enero.txt')\n",
    "# hasta ahora solo indicamos el cambio del nombre en la ruta, verificamos con este print\n",
    "print(nuevo_nombre_path)\n",
    "# para efectuar el cambio en el archivo usamos el método tename()\n",
    "path.rename(nuevo_nombre_path)"
   ]
  },
  {
   "cell_type": "markdown",
   "metadata": {},
   "source": [
    "## Obtener subdirectorios inmediatos\n",
    "\n",
    "Anteriormente se crearon automáticamente una carpeta 2022 y subcarpetas con meses y días. Los subdirectorios \n",
    "inmediatos de una carpeta son los archivos y carpetas dentro de esa carpeta.\n",
    "Cabe destacar que por cada archivo muestra su ruta, así sea carpeta, txt, CSV o lo que sea."
   ]
  },
  {
   "cell_type": "code",
   "execution_count": 3,
   "metadata": {},
   "outputs": [
    {
     "name": "stdout",
     "output_type": "stream",
     "text": [
      "2022\\1.January\n",
      "2022\\10.October\n",
      "2022\\11.November\n",
      "2022\\12.December\n",
      "2022\\2.February\n",
      "2022\\3.March\n",
      "2022\\4.April\n",
      "2022\\5.May\n",
      "2022\\6.June\n",
      "2022\\7.July\n",
      "2022\\8.August\n",
      "2022\\9.September\n"
     ]
    }
   ],
   "source": [
    "# 3. Obtener path de los subdirectorios immediatos\n",
    "# para las RUTAS DE LAS SUBCARPETAS INMEDIATAS creamos el objeto carpeta de tipo Path que se llamará 2022\n",
    "carpeta = Path('2022')\n",
    "# el método iterdir() va iterando dentro de la carpeta indicada, convertimos \"carpeta\" en una lista para iterar con for\n",
    "for path in list(carpeta.iterdir()):\n",
    "    print(path)"
   ]
  },
  {
   "cell_type": "markdown",
   "metadata": {},
   "source": [
    "Enseguida obtendremos la ruta de los subdirectorios inmediatos pero también los subdirectorios de estos. Usaremos los\n",
    "caracteres especiales **/* donde:\n",
    "\n",
    "** --> represente este directorio y sus subdirectorios\n",
    "/* --> representa a las cadenas de texto de los nombres de los directorios\n",
    "**/* --> indica que queremos obtener todos los dirctorios y subdirectorios sin importar el nombre y extensión"
   ]
  },
  {
   "cell_type": "code",
   "execution_count": 4,
   "metadata": {},
   "outputs": [
    {
     "name": "stdout",
     "output_type": "stream",
     "text": [
      "2022\\1.January\n",
      "2022\\10.October\n",
      "2022\\11.November\n",
      "2022\\12.December\n",
      "2022\\2.February\n",
      "2022\\3.March\n",
      "2022\\4.April\n",
      "2022\\5.May\n",
      "2022\\6.June\n",
      "2022\\7.July\n",
      "2022\\8.August\n",
      "2022\\9.September\n",
      "2022\\1.January\\Dia 1\n",
      "2022\\1.January\\Dia 15\n",
      "2022\\1.January\\Dia 22\n",
      "2022\\1.January\\Dia 8\n",
      "2022\\10.October\\Dia 1\n",
      "2022\\10.October\\Dia 15\n",
      "2022\\10.October\\Dia 22\n",
      "2022\\10.October\\Dia 8\n",
      "2022\\11.November\\Dia 1\n",
      "2022\\11.November\\Dia 15\n",
      "2022\\11.November\\Dia 22\n",
      "2022\\11.November\\Dia 8\n",
      "2022\\12.December\\Dia 1\n",
      "2022\\12.December\\Dia 15\n",
      "2022\\12.December\\Dia 22\n",
      "2022\\12.December\\Dia 8\n",
      "2022\\2.February\\Dia 1\n",
      "2022\\2.February\\Dia 15\n",
      "2022\\2.February\\Dia 22\n",
      "2022\\2.February\\Dia 8\n",
      "2022\\3.March\\Dia 1\n",
      "2022\\3.March\\Dia 15\n",
      "2022\\3.March\\Dia 22\n",
      "2022\\3.March\\Dia 8\n",
      "2022\\4.April\\Dia 1\n",
      "2022\\4.April\\Dia 15\n",
      "2022\\4.April\\Dia 22\n",
      "2022\\4.April\\Dia 8\n",
      "2022\\5.May\\Dia 1\n",
      "2022\\5.May\\Dia 15\n",
      "2022\\5.May\\Dia 22\n",
      "2022\\5.May\\Dia 8\n",
      "2022\\6.June\\Dia 1\n",
      "2022\\6.June\\Dia 15\n",
      "2022\\6.June\\Dia 22\n",
      "2022\\6.June\\Dia 8\n",
      "2022\\7.July\\Dia 1\n",
      "2022\\7.July\\Dia 15\n",
      "2022\\7.July\\Dia 22\n",
      "2022\\7.July\\Dia 8\n",
      "2022\\8.August\\Dia 1\n",
      "2022\\8.August\\Dia 15\n",
      "2022\\8.August\\Dia 22\n",
      "2022\\8.August\\Dia 8\n",
      "2022\\9.September\\Dia 1\n",
      "2022\\9.September\\Dia 15\n",
      "2022\\9.September\\Dia 22\n",
      "2022\\9.September\\Dia 8\n"
     ]
    }
   ],
   "source": [
    "# 4. Obtener path de todos subdirectorios\n",
    "# utilizamos el método glob() con argumento \"**/*\"\n",
    "paths = carpeta.glob('**/*')\n",
    "for path in paths:\n",
    "    print(path)"
   ]
  },
  {
   "cell_type": "markdown",
   "metadata": {},
   "source": [
    "También podemos obtener la ruta de las carpetas que contengan un archivo (que no estén vacías) con el método .is_file()"
   ]
  },
  {
   "cell_type": "code",
   "execution_count": 5,
   "metadata": {},
   "outputs": [
    {
     "name": "stdout",
     "output_type": "stream",
     "text": [
      "2022archivos\\1.January\\Day 1\\.DS_Store\n",
      "2022archivos\\1.January\\Day 1\\gastos.csv\n",
      "2022archivos\\1.January\\Day 28\\.DS_Store\n",
      "2022archivos\\1.January\\Day 28\\gastos.csv\n",
      "2022archivos\\11.November\\Day 22\\.DS_Store\n",
      "2022archivos\\11.November\\Day 8\\gastos.csv\n",
      "2022archivos\\12.December\\Day 1\\gastos.csv\n",
      "2022archivos\\12.December\\Day 8\\.DS_Store\n",
      "2022archivos\\5.May\\Day 1\\gastos.csv\n",
      "2022archivos\\5.May\\Day 15\\.DS_Store\n",
      "2022archivos\\5.May\\Day 15\\gastos.csv\n",
      "2022archivos\\8.August\\Day 1\\gastos.csv\n",
      "2022archivos\\8.August\\Day 8\\.DS_Store\n"
     ]
    }
   ],
   "source": [
    "# 5. Obtener path de todos los subdirectorios con un archivo\n",
    "carpeta_archivos = Path('2022archivos')\n",
    "paths_archivos = carpeta_archivos.glob('**/*')\n",
    "for path in paths_archivos:\n",
    "    if path.is_file():\n",
    "        print(path)"
   ]
  },
  {
   "cell_type": "markdown",
   "metadata": {},
   "source": [
    "Podemos obtener el path de los directorios que contengan un tip de archivo en específico por su extensión. Este script\n",
    "de python se encuentra en una carpeta donde todos los archivos del mismo tipo, están en este misma carpeta. Las demás \n",
    "carpetas contienen archivos de texto y csv. \n",
    "\n",
    "Para trabjar con la ruta en la que se encuentra este mismo script, usamos Path('.')\n",
    "**/*.py --> obtene todos los directorios de este directorio con cadena de texto .py"
   ]
  },
  {
   "cell_type": "code",
   "execution_count": 6,
   "metadata": {},
   "outputs": [
    {
     "name": "stdout",
     "output_type": "stream",
     "text": [
      "1.path-vs-os.py\n",
      "2.crear-carpetas.py\n",
      "3.renombrar-archivos.py\n"
     ]
    }
   ],
   "source": [
    "# 6. Obtener path de todos los subdirectorios que tienen archivos .py\n",
    "carpeta_archivos_py = Path('.')\n",
    "for path in carpeta_archivos_py.glob('**/*.py'):\n",
    "    print(path)"
   ]
  }
 ],
 "metadata": {
  "kernelspec": {
   "display_name": "Python 3.10.5 64-bit",
   "language": "python",
   "name": "python3"
  },
  "language_info": {
   "codemirror_mode": {
    "name": "ipython",
    "version": 3
   },
   "file_extension": ".py",
   "mimetype": "text/x-python",
   "name": "python",
   "nbconvert_exporter": "python",
   "pygments_lexer": "ipython3",
   "version": "3.10.5"
  },
  "orig_nbformat": 4,
  "vscode": {
   "interpreter": {
    "hash": "0f1e7454989977e67024e29629c272aec4481f16d732c3b04e0afc459660b12c"
   }
  }
 },
 "nbformat": 4,
 "nbformat_minor": 2
}
