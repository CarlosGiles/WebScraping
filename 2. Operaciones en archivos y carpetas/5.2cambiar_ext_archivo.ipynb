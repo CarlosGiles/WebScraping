{
 "cells": [
  {
   "cell_type": "markdown",
   "metadata": {},
   "source": [
    "# Cambiar extensión de un archivo\n",
    "\n",
    "Tenemos una carpeta llamada **\"cambiar-extension\"**. Esta carpeta contiene, originalmete, archivos de texto **\".txt\"** y los cambiaremos a la extensión **\".csv\"**.\n",
    "\n",
    "Comenzamos pasando los archivo **.txt** a **.csv**"
   ]
  },
  {
   "cell_type": "code",
   "execution_count": 1,
   "metadata": {},
   "outputs": [
    {
     "name": "stdout",
     "output_type": "stream",
     "text": [
      "cambiar-extension\\file1.txt\n",
      "cambiar-extension\\file10.txt\n",
      "cambiar-extension\\file2.txt\n",
      "cambiar-extension\\file3.txt\n",
      "cambiar-extension\\file4.txt\n",
      "cambiar-extension\\file5.txt\n",
      "cambiar-extension\\file6.txt\n",
      "cambiar-extension\\file7.txt\n",
      "cambiar-extension\\file8.txt\n",
      "cambiar-extension\\file9.txt\n"
     ]
    },
    {
     "data": {
      "text/plain": [
       "'\\n1. Ahora corremos este script y veremos el print antes de los cambios.\\n2. Vamos a nuestro directorio y verificamos el cambio en los archivos.\\n'"
      ]
     },
     "execution_count": 1,
     "metadata": {},
     "output_type": "execute_result"
    }
   ],
   "source": [
    "from pathlib import Path\n",
    "\n",
    "# TODO: Cambiar extension de los archivos dentro de la carpeta \"cambiar-extension\". Primero txt --> csv, luego csv --> txt\n",
    "\n",
    "#Creamos el obj que contiene el string del nombre de la carpeta a utilizar\n",
    "folder = Path('cambiar-extension')\n",
    "\n",
    "# 1. txt -> csv\n",
    "\n",
    "\"\"\"\n",
    "Creamos un ciclo for para iterar en el obj folder convertido a una lista necesariamente\n",
    "\"\"\"\n",
    "for path in list(folder.iterdir()):\n",
    "    print(path)#Vemos las rutas de los archivos dentro\n",
    "    if path.suffix == '.txt':#comparamos/verificamos el tipo de archivos por su sffix\n",
    "        #La variable que contiene el suffix para luego ser cambiado con el método .rename()\n",
    "        nueva_extension = path.with_suffix('.csv')#como el método with_name pero solo cambiaremos el suffix\n",
    "        path.rename(nueva_extension)#efectuamos el cambio\n",
    "\n",
    "# ATENCIÖN\n",
    "\"\"\"\n",
    "1. Ahora corremos este script y veremos el print antes de los cambios.\n",
    "\n",
    "2. Vamos a nuestro directorio y verificamos el cambio en los archivos.\n",
    "\"\"\"\n",
    "# ATENCIÖN"
   ]
  },
  {
   "cell_type": "markdown",
   "metadata": {},
   "source": [
    "Ahora cambiamos estos **.csv** a **.txt** pero con un método distinto: ***.glob()***"
   ]
  },
  {
   "cell_type": "code",
   "execution_count": 2,
   "metadata": {},
   "outputs": [
    {
     "name": "stdout",
     "output_type": "stream",
     "text": [
      "cambiar-extension\\file1.csv\n",
      "cambiar-extension\\file10.csv\n",
      "cambiar-extension\\file2.csv\n",
      "cambiar-extension\\file3.csv\n",
      "cambiar-extension\\file4.csv\n",
      "cambiar-extension\\file5.csv\n",
      "cambiar-extension\\file6.csv\n",
      "cambiar-extension\\file7.csv\n",
      "cambiar-extension\\file8.csv\n",
      "cambiar-extension\\file9.csv\n"
     ]
    },
    {
     "data": {
      "text/plain": [
       "'\\n1. Ahora corremos este script y veremos el print antes de los cambios (.csv).\\n\\n2. Vamos a nuestro directorio y verificamos el cambio en los archivos.\\n'"
      ]
     },
     "execution_count": 2,
     "metadata": {},
     "output_type": "execute_result"
    }
   ],
   "source": [
    "# 2. csv -> txt\n",
    "\"\"\"|\n",
    "Para dar varuedad, usaremos otro método para reconvertir los archivos... aunque el método .with_suffix() serviría\n",
    "\"\"\"\n",
    "#Ciclo for para cada archivo \"path\" en el objeto folder que contiene a \"cambiar-extension\"\n",
    "for path in folder.glob('**/*.csv'):#obtener del directorio actual y de los subdirectorios todos los archivos con la cadena \".csv\"\n",
    "    print(path)#verificamos los .csv\n",
    "    nueva_extension = path.with_suffix('.txt')#redefinimos la variable con la nueva ext\n",
    "    path.rename(nueva_extension)#ejecutaos los cambios con este rename\n",
    "\n",
    "# ATENCIÖN\n",
    "\"\"\"\n",
    "1. Ahora corremos este script y veremos el print antes de los cambios (.csv).\n",
    "\n",
    "2. Vamos a nuestro directorio y verificamos el cambio en los archivos.\n",
    "\"\"\"\n",
    "# ATENCIÖN"
   ]
  }
 ],
 "metadata": {
  "kernelspec": {
   "display_name": "Python 3.10.5 64-bit",
   "language": "python",
   "name": "python3"
  },
  "language_info": {
   "codemirror_mode": {
    "name": "ipython",
    "version": 3
   },
   "file_extension": ".py",
   "mimetype": "text/x-python",
   "name": "python",
   "nbconvert_exporter": "python",
   "pygments_lexer": "ipython3",
   "version": "3.10.5"
  },
  "orig_nbformat": 4,
  "vscode": {
   "interpreter": {
    "hash": "0f1e7454989977e67024e29629c272aec4481f16d732c3b04e0afc459660b12c"
   }
  }
 },
 "nbformat": 4,
 "nbformat_minor": 2
}
