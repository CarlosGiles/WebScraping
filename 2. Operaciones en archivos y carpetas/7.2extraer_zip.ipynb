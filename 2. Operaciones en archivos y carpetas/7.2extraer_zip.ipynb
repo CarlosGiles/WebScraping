{
 "cells": [
  {
   "cell_type": "markdown",
   "metadata": {},
   "source": [
    "# Extraer un archivo zip\n",
    "\n",
    "Necesitamos los módulos **Path** y **zipfile**"
   ]
  },
  {
   "cell_type": "code",
   "execution_count": 1,
   "metadata": {},
   "outputs": [
    {
     "name": "stdout",
     "output_type": "stream",
     "text": [
      "cambiar-extension.zip\n",
      "sp-2022.zip\n",
      "test.zip\n"
     ]
    }
   ],
   "source": [
    "from pathlib import Path\n",
    "import zipfile\n",
    "\n",
    "# 1. extraer zip en carpeta \"temp\"\n",
    "\n",
    "#indicamos que es este directorio en el que está el zip\n",
    "directorio_actual = Path('.')\n",
    "#indicamos la carpeta en que se van a extraer los archivos, será carpeta temp\n",
    "directorio_objetivo = Path('temp')\n",
    "\n",
    "#hacemos un bucle for al actual directorio\n",
    "for path in directorio_actual.glob('*.zip'):\n",
    "    print(path)#para verificar lo obtenido, en este momento solo hay 3 zip\n",
    "    with zipfile.ZipFile(path, 'r') as zip_obj:#zipfile -> módulo, .ZipFile -> método | r es modo lectura, zip_obj es instancia\n",
    "        zip_obj.extractall(path=directorio_objetivo)#pasamos el método a la instancia y como argumento path=al destino"
   ]
  },
  {
   "cell_type": "markdown",
   "metadata": {},
   "source": [
    "Al ejecutar el código debemos revisar que en el actual directorio tenemos una carpeta llamada **temp** que contiene las carpetas extraidas"
   ]
  }
 ],
 "metadata": {
  "kernelspec": {
   "display_name": "Python 3.10.5 64-bit",
   "language": "python",
   "name": "python3"
  },
  "language_info": {
   "codemirror_mode": {
    "name": "ipython",
    "version": 3
   },
   "file_extension": ".py",
   "mimetype": "text/x-python",
   "name": "python",
   "nbconvert_exporter": "python",
   "pygments_lexer": "ipython3",
   "version": "3.10.5"
  },
  "orig_nbformat": 4,
  "vscode": {
   "interpreter": {
    "hash": "0f1e7454989977e67024e29629c272aec4481f16d732c3b04e0afc459660b12c"
   }
  }
 },
 "nbformat": 4,
 "nbformat_minor": 2
}
