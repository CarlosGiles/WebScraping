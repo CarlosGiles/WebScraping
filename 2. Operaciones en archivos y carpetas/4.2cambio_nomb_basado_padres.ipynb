{
 "cells": [
  {
   "cell_type": "code",
   "execution_count": null,
   "metadata": {},
   "outputs": [],
   "source": [
    "# RECOMENDACIÓN\n",
    "\"\"\"\n",
    "LEER EL ARCHIVO COMPLETO Y EJECUTAR CADA FRAGMENTO DE CÓDIGO PARA COMPROBAR LOS CAMBIOS CUANDO LOS HAYA. \n",
    "\"\"\"\n",
    "# RECOMENDACIÓN"
   ]
  },
  {
   "cell_type": "markdown",
   "metadata": {},
   "source": [
    "# Cambiar nombre a archivo basado en carpetas padre\n",
    "\n",
    "En la carpeta \"2022archivos\" tenemos el archivo \"gastos.csv\" en varias carpetas. Podemos renombrarlo basándonos en \n",
    "los nombres de las carpetas padre (2022, meses, dias). El formato final seria \"gastosYYYYMMDD.csv\""
   ]
  },
  {
   "cell_type": "code",
   "execution_count": null,
   "metadata": {},
   "outputs": [],
   "source": [
    "\"\"\"\n",
    "Este script devuelve por partes las rutas en las que existe dicho archivo \n",
    "\"\"\"\n",
    "from pathlib import Path\n",
    "import re #Módulo para expresiones regulares\n",
    "\n",
    "# TODO: Renombrar \"gastos.csv\" basado en los nombres de carpetas padre\n",
    "carpeta = Path('2022archivos')\n",
    "paths = carpeta.glob('**/*.csv')\n",
    "\n",
    "for path in paths: \n",
    "    print(path)#muestra la ruta tal cual"
   ]
  },
  {
   "cell_type": "markdown",
   "metadata": {},
   "source": [
    "## Solución\n",
    "\n",
    "Dividimos la ruta de cada resultado en partes (atributo .parts)"
   ]
  },
  {
   "cell_type": "code",
   "execution_count": null,
   "metadata": {},
   "outputs": [],
   "source": [
    "from pathlib import Path\n",
    "import re #Módulo para expresiones regulares\n",
    "\n",
    "# Renombrar \"gastos.csv\" basado en los nombres de carpetas padre\n",
    "carpeta = Path('2022archivos')\n",
    "paths = carpeta.glob('**/*.csv')\n",
    "\n",
    "for path in paths: \n",
    "    print(path.parts)#muestra la ruta seccionada"
   ]
  },
  {
   "cell_type": "markdown",
   "metadata": {},
   "source": [
    "Seleccionamos cada elemento de la ruta (día, mes, año)"
   ]
  },
  {
   "cell_type": "code",
   "execution_count": null,
   "metadata": {},
   "outputs": [],
   "source": [
    "from pathlib import Path\n",
    "import re #Módulo para expresiones regulares\n",
    "\n",
    "# Renombrar \"gastos.csv\" basado en los nombres de carpetas padre\n",
    "carpeta = Path('2022archivos')\n",
    "paths = carpeta.glob('**/*.csv')\n",
    "\n",
    "for path in paths: \n",
    "    print(path.parts)#muestra la ruta seccionada\n",
    "    #La posición del elemento día es el -2 de derecha a izquierda\n",
    "    dia = path.parts[-2]\n",
    "    #La posición del elemento mes es el 1 de izquierda a derecha\n",
    "    mes = path.parts[1]\n",
    "    #La posición del elemento año es 0 de izquierda a derecha\n",
    "    ano = path.parts[0]"
   ]
  },
  {
   "cell_type": "markdown",
   "metadata": {},
   "source": [
    "Se usan expresiones regulares para extraer los números de las variables.\n",
    "\n",
    "El módulo **re** contiene el método ***findall()*** que permite encontrar patrones dentro de cadenas de texto y se usa de la siguiente forma:\n",
    "\n",
    "**findall(pattern, string, flags)**\n",
    "\n",
    "pattern:\n",
    "* \\d --> busca dígito (0,1,2,3,4,5,6,7,8,9)\n",
    "* \\d+ --> busca dígitos (10,11,12,13...)\n",
    "\n",
    "string:\n",
    "* Lo que guerdamos en una variable (dia, mes, año)\n",
    "\n",
    "Para tomar la primera coincidencia: [0]"
   ]
  },
  {
   "cell_type": "code",
   "execution_count": null,
   "metadata": {},
   "outputs": [],
   "source": [
    "from pathlib import Path\n",
    "import re #Módulo para expresiones regulares\n",
    "\n",
    "# Renombrar \"gastos.csv\" basado en los nombres de carpetas padre\n",
    "carpeta = Path('2022archivos')\n",
    "paths = carpeta.glob('**/*.csv')\n",
    "\n",
    "for path in paths: \n",
    "    print(path.parts)#muestra la ruta seccionada\n",
    "    #La posición del elemento día es el -2 de derecha a izquierda\n",
    "    dia = path.parts[-2]\n",
    "    #La posición del elemento mes es el 1 de izquierda a derecha\n",
    "    mes = path.parts[1]\n",
    "    #La posición del elemento año es 0 de izquierda a derecha\n",
    "    ano = path.parts[0]\n",
    "    #Usamos expresiones regulares del módulo re y convertimos en entero\n",
    "    dia_digito=int(re.findall('\\d+', dia)[0])\n",
    "    #Para el mes agregamos el \".\" ya que es parte del patrón y usamos () para inicar la parte que nos interesa que es número\n",
    "    mes_digito=int(re.findall('(\\d+).', mes)[0])#obtenemos el dígito que está seguido de \".\" pero no el \".\""
   ]
  },
  {
   "cell_type": "markdown",
   "metadata": {},
   "source": [
    "Para poder cambiar el nombre de los archivos usamos el método **.with_name()** y luego efectuamos los cambios con el método **.rename()**\n",
    "\n",
    "En el método **.with_name()** podemos usar como parámetro la expresión ***\":02d\"*** para indicar que queremos formatos de dos dígitos para los días y meses del 1-9"
   ]
  },
  {
   "cell_type": "code",
   "execution_count": null,
   "metadata": {},
   "outputs": [],
   "source": [
    "from pathlib import Path\n",
    "import re #Módulo para expresiones regulares\n",
    "\n",
    "# Renombrar \"gastos.csv\" basado en los nombres de carpetas padre\n",
    "carpeta = Path('2022archivos')\n",
    "paths = carpeta.glob('**/*.csv')\n",
    "\n",
    "for path in paths: \n",
    "    print(path.parts)#muestra la ruta seccionada\n",
    "    #La posición del elemento día es el -2 de derecha a izquierda\n",
    "    dia = path.parts[-2]\n",
    "    #La posición del elemento mes es el 1 de izquierda a derecha\n",
    "    mes = path.parts[1]\n",
    "    #La posición del elemento año es 0 de izquierda a derecha\n",
    "    ano = path.parts[0]\n",
    "    #Usamos expresiones regulares del módulo re y convertimos en entero\n",
    "    dia_digito=int(re.findall('\\d+', dia)[0])\n",
    "    #Para el mes agregamos el \".\" ya que es parte del patrón y usamos () para inicar la parte que nos interesa que es número\n",
    "    mes_digito=int(re.findall('(\\d+).', mes)[0])#obtenemos el dígito que está seguido de \".\" pero no el \".\"\n",
    "    ano_digito=int(re.findall('(\\d+).', ano)[0])\n",
    "    \n",
    "    #definimos el nuevo nombre deseado\n",
    "    nuevo_nombre=path.with_name(f\"gastos{ano_digito}{mes_digito:02d}{dia_digito:02d}.csv\")\n",
    "    #ejecutamos el cambio\n",
    "    path.rename(nuevo_nombre)\n",
    "    "
   ]
  },
  {
   "cell_type": "markdown",
   "metadata": {},
   "source": [
    "El **print** de arriba es el que corresponde a la parte del código antes del cambio, si volvemos a correr el archivo debe salir el formato deseado ya que se estaría ejecuntando por segunda vez cuando el cambio de nombre se hizo.\n",
    "\n",
    "Otra opción es revisar nuestro directorio después de ejecutar el código la primera vez."
   ]
  }
 ],
 "metadata": {
  "kernelspec": {
   "display_name": "Python 3.10.5 64-bit",
   "language": "python",
   "name": "python3"
  },
  "language_info": {
   "codemirror_mode": {
    "name": "ipython",
    "version": 3
   },
   "file_extension": ".py",
   "mimetype": "text/x-python",
   "name": "python",
   "nbconvert_exporter": "python",
   "pygments_lexer": "ipython3",
   "version": "3.10.5"
  },
  "orig_nbformat": 4,
  "vscode": {
   "interpreter": {
    "hash": "0f1e7454989977e67024e29629c272aec4481f16d732c3b04e0afc459660b12c"
   }
  }
 },
 "nbformat": 4,
 "nbformat_minor": 2
}
