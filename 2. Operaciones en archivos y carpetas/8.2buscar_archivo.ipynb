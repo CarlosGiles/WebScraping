{
 "cells": [
  {
   "cell_type": "markdown",
   "metadata": {},
   "source": [
    "# Buscar archivos específicos en nuestro sistema\n",
    "\n",
    "Creando una variable que almecene un patrón podemos buscar archivos que coincidan"
   ]
  },
  {
   "cell_type": "code",
   "execution_count": 1,
   "metadata": {},
   "outputs": [
    {
     "name": "stdout",
     "output_type": "stream",
     "text": [
      "2022-csv-renombrado\\1.January\\Day 1\\gastos20220101.csv\n",
      "c:\\Users\\Carlos Giles\\Documents\\Tech\\Automatizar con Python\\2. Operaciones en archivos y carpetas\\2022-csv-renombrado\\1.January\\Day 1\\gastos20220101.csv\n",
      "2022-csv-renombrado\\1.January\\Day 28\\gastos20220128.csv\n",
      "c:\\Users\\Carlos Giles\\Documents\\Tech\\Automatizar con Python\\2. Operaciones en archivos y carpetas\\2022-csv-renombrado\\1.January\\Day 28\\gastos20220128.csv\n"
     ]
    }
   ],
   "source": [
    "from pathlib import Path\n",
    "\n",
    "# encontrar todos los archivos csv que contienen el texto de la variable \"buscar_texto\" en su nombre de archivo\n",
    "carpeta = Path('2022-csv-renombrado')#indicamos la carpeta con la que trabaremos\n",
    "buscar_texto = '202201'#definimos en una var el texto que buscamos en el nombre del archivo\n",
    "\n",
    "for path in carpeta.glob('**/*.csv'):#para todos los csv en esta carpeta y subcarpetas\n",
    "    # print(path)\n",
    "    if buscar_texto in path.name:#si coincide el patrón con el nombre del path...\n",
    "        print(path)  # ruta relativa\n",
    "        print(path.absolute())  # ruta absoluta"
   ]
  },
  {
   "cell_type": "markdown",
   "metadata": {},
   "source": [
    "Se nos han mostrado dos archivos que coinciden con el patrón **\"202201\"**, son 4 resultados ya que por cada archivo nos muestra la ruta relativa (a partir de lo definido en **carpeta = Path('2022-csv-renombrado')**) y la ruta absoluta."
   ]
  }
 ],
 "metadata": {
  "kernelspec": {
   "display_name": "Python 3.10.5 64-bit",
   "language": "python",
   "name": "python3"
  },
  "language_info": {
   "codemirror_mode": {
    "name": "ipython",
    "version": 3
   },
   "file_extension": ".py",
   "mimetype": "text/x-python",
   "name": "python",
   "nbconvert_exporter": "python",
   "pygments_lexer": "ipython3",
   "version": "3.10.5"
  },
  "orig_nbformat": 4,
  "vscode": {
   "interpreter": {
    "hash": "0f1e7454989977e67024e29629c272aec4481f16d732c3b04e0afc459660b12c"
   }
  }
 },
 "nbformat": 4,
 "nbformat_minor": 2
}
