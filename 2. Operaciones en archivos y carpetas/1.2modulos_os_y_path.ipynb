{
 "cells": [
  {
   "cell_type": "markdown",
   "metadata": {},
   "source": [
    "# Módulos os y Path\n",
    "El módulo **os** arroja una cadena de texto mientras que el módulo **Path** devuelve un objeto tipo ***ruta*** con el cual podemos trabajar como si fuera una dirección."
   ]
  },
  {
   "cell_type": "code",
   "execution_count": 1,
   "metadata": {},
   "outputs": [],
   "source": [
    "# Importamos el módulo Path desde la librería pathlib\n",
    "from pathlib import Path\n",
    "# Importamos el módulo os\n",
    "import os"
   ]
  },
  {
   "cell_type": "markdown",
   "metadata": {},
   "source": [
    "Obtener directorio donde nos encontramos usando el modulo OS y Path:\n",
    "con la función getcwd() para os y la función cwd() para Path obtenesmo la dirección en que se está\n",
    "trabajando"
   ]
  },
  {
   "cell_type": "code",
   "execution_count": 2,
   "metadata": {},
   "outputs": [
    {
     "name": "stdout",
     "output_type": "stream",
     "text": [
      "<class 'str'>\n",
      "<class 'pathlib.WindowsPath'>\n"
     ]
    }
   ],
   "source": [
    "# Guardamos nuestra ubicación en la variable path_os y path_Path\n",
    "path_os = os.getcwd()\n",
    "path_Path = Path.cwd()\n",
    "\n",
    "# Imprimir el tipo de cada objeto para verificar\n",
    "print(type(path_os))\n",
    "print(type(path_Path))"
   ]
  },
  {
   "cell_type": "markdown",
   "metadata": {},
   "source": [
    "## Partes de un path:\n",
    "Una ruta o path es en sí la ubicación de un archivo o carpeta, el último elemento o eslabon es entonces \n",
    "el archivo que nos interesa. Para obtener cada parte de un path, crearemos uno y veremos cómo\n",
    "manipularlo.\n",
    "\n",
    "Cabe aclarar que al crear un objeto y ruta con el módulo Path, solo se crea a nivel de código, no se\n",
    "crea el archivo en el directorio"
   ]
  },
  {
   "cell_type": "code",
   "execution_count": 4,
   "metadata": {},
   "outputs": [
    {
     "name": "stdout",
     "output_type": "stream",
     "text": [
      "Este es el path creado:  test\\expenses.txt\n",
      "Las partes del path son:  ('test', 'expenses.txt')\n",
      "El archivo es:  expenses.txt\n",
      "El nombre es:  expenses\n",
      "Tipo de archivo:  .txt\n"
     ]
    }
   ],
   "source": [
    "# Creamos una variable u objeto del tipo Path llamado \"path\" y definimos su ruta\n",
    "path = Path('test/expenses.txt')\n",
    "# Mostramos en pantalla el obj\n",
    "print(\"Este es el path creado: \",path)\n",
    "# Con el argumento \"parts\" se muestran las partes de la ruta, el contenido entre cada \"/\"\n",
    "print(\"Las partes del path son: \",path.parts)\n",
    "# Con \"name\" se muestra el elemento final del path, el archivo\n",
    "print(\"El archivo es: \",path.name)\n",
    "# \"stem\" es el nombre del archivo sin la extensión detipo\n",
    "print(\"El nombre es: \",path.stem)\n",
    "# \"suffix\" devuelve la extensión del tipo de archivo\n",
    "print(\"Tipo de archivo: \",path.suffix)"
   ]
  }
 ],
 "metadata": {
  "kernelspec": {
   "display_name": "Python 3.10.5 64-bit",
   "language": "python",
   "name": "python3"
  },
  "language_info": {
   "codemirror_mode": {
    "name": "ipython",
    "version": 3
   },
   "file_extension": ".py",
   "mimetype": "text/x-python",
   "name": "python",
   "nbconvert_exporter": "python",
   "pygments_lexer": "ipython3",
   "version": "3.10.5"
  },
  "orig_nbformat": 4,
  "vscode": {
   "interpreter": {
    "hash": "0f1e7454989977e67024e29629c272aec4481f16d732c3b04e0afc459660b12c"
   }
  }
 },
 "nbformat": 4,
 "nbformat_minor": 2
}
