{
 "cells": [
  {
   "cell_type": "markdown",
   "metadata": {},
   "source": [
    "# Crear carpetas y subcarpetas (Paths/Rutas)\n",
    "En este script se automatiza la creación de carpetas nombradas con días y meses. Para ello se utiliza una \n",
    "librería de Python llamada calendar"
   ]
  },
  {
   "cell_type": "code",
   "execution_count": null,
   "metadata": {},
   "outputs": [],
   "source": [
    "# Para crear carpetas importamos módulo Path\n",
    "from pathlib import Path\n",
    "# Importamos la librería que nos permite trabajar con el calendario\n",
    "import calendar\n",
    "\n",
    "# 1.Crear una sola carpeta con el método mkdir(), en la ruta que se está trabajando el script\n",
    "Path('nueva_carpeta(1)').mkdir()\n",
    "# Podemos pasar argumentos al método para evitar un error si se intenta crear una carpeta que ya existe\n",
    "Path('nueva_carpeta(1)').mkdir(exist_ok=True)"
   ]
  },
  {
   "cell_type": "markdown",
   "metadata": {},
   "source": [
    "Anteriormente ya fue creada la carpeta \"nueva_carpeta(1)\", con el parámetro \"parents=True\" se crearán las\n",
    "carpetas necesarias (faltantes) de una ruta indicada"
   ]
  },
  {
   "cell_type": "code",
   "execution_count": null,
   "metadata": {},
   "outputs": [],
   "source": [
    "# 2.Crear multiples subcarpetas (parents=True: cualquier carpeta faltante en la ruta se creara de ser necesario)\n",
    "# Dentro de Path() creamos la ruta deseada\n",
    "Path('nueva_carpeta(1)/nueva_subcarpeta(2)/nueva_subsubcarpeta(3)').mkdir(parents=True, exist_ok=True)"
   ]
  },
  {
   "cell_type": "markdown",
   "metadata": {},
   "source": [
    "Creación de multiples carpetas en orden de los meses del año y que incluyan los días como subcarpetas.\n",
    "\n",
    "La librería calendar tiene un método llamado month_name[:] el cual puede ser convertido en lista con función list\n",
    "que guardamos en \"meses_ano\".\n",
    "\n",
    "De nuevo recordar que las carpetas se crean en nuestro directorio hasta usar el método mkdir(), en el código siguiente lo que estamos haciendo es crear una lista cuyos elementos seran los días y meses."
   ]
  },
  {
   "cell_type": "code",
   "execution_count": null,
   "metadata": {},
   "outputs": [],
   "source": [
    "# 3.Crear carpeta \"2022\", subcarpetas desde Enero hasta Diciembre y subsubcarpetas para 5 dias aleatorios (Dia 1, Dia 5, ...)\n",
    "meses_ano = list(calendar.month_name[1:])\n",
    "# Lista con 4 elementos nombrados como un número de día del mes\n",
    "dia_semana = ['Dia 1', 'Dia 8', 'Dia 15', 'Dia 22']"
   ]
  },
  {
   "cell_type": "markdown",
   "metadata": {},
   "source": [
    "Podemos crear una sentencia simple para dar formato a las carpetas: \"2022/Diciembre\". Esto indica que la primera\n",
    "carpeta, carpeta padre, será llamada 2022 y la siguiente carpeta dntro de ella será llamada Diciembre.\n",
    "\n",
    "## Ej: Path(\"2022/Diciembre\").mkdir(parents=True, exist_ok=True)\n",
    "\n",
    "Para automatizar la creación de carpetas haremos iteraciones para los meses y días:"
   ]
  },
  {
   "cell_type": "code",
   "execution_count": null,
   "metadata": {},
   "outputs": [],
   "source": [
    "# Hacemos iteracones para crear las carpetas de los meses dentro de la carpeta 2022 y para los días dentro de los meses\n",
    "for i, mes in enumerate(meses_ano):\n",
    "    # Bucle para las carpetas por día\n",
    "    for dia in dia_semana:\n",
    "        # La carpeta del mes se ordena con i+1 para que quede dentro de la arpeta 2022 las carpetas \"1.Enero/Día 1...\"\n",
    "        Path(f'2022/{i+1}.{mes}/{dia}').mkdir(parents=True, exist_ok=True)#mes y dia cambian con las listas de arriba"
   ]
  }
 ],
 "metadata": {
  "kernelspec": {
   "display_name": "Python 3.10.5 64-bit",
   "language": "python",
   "name": "python3"
  },
  "language_info": {
   "name": "python",
   "version": "3.10.5"
  },
  "orig_nbformat": 4,
  "vscode": {
   "interpreter": {
    "hash": "0f1e7454989977e67024e29629c272aec4481f16d732c3b04e0afc459660b12c"
   }
  }
 },
 "nbformat": 4,
 "nbformat_minor": 2
}
