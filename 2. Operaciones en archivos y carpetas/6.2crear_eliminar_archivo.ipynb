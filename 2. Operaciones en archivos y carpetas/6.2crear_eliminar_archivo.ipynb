{
 "cells": [
  {
   "cell_type": "markdown",
   "metadata": {},
   "source": [
    "# Crear y eliminar archivos\n",
    "\n",
    "En este código se muestra cómo crear y eliminar múltiples archivos"
   ]
  },
  {
   "cell_type": "code",
   "execution_count": 9,
   "metadata": {},
   "outputs": [
    {
     "data": {
      "text/plain": [
       "'\\nCORREMOS ESTE CÓDIGO Y VERIFICAMOS NUESTRO DIRECTORIO PARA VER LOS ARCHIVOS CREADOS\\n'"
      ]
     },
     "execution_count": 9,
     "metadata": {},
     "output_type": "execute_result"
    }
   ],
   "source": [
    "\"\"\"\n",
    "Creamos una lista de números para controlar el iterador \"i\" del ciclo for que creará los archivos con la función open\n",
    "\"\"\"\n",
    "from pathlib import Path\n",
    "numeros = [1, 2, 3, 4, 5, 6, 7, 8, 9]\n",
    "\n",
    "# crear archivo1, ..., archivo9 (.txt)\n",
    "for i in numeros:\n",
    "    with open(f'test{i}.txt', 'w') as file:#aquí se definió el nombre del archivo a crear con el modo de escritura write (w)\n",
    "        file.write('Hola Mundo!')#\"file\" es como llamamos al archivo para usarlo dentro del código\n",
    "        #se usó el método write para escribir dentro del archivo\n",
    "\n",
    "# ATENCIÓN\n",
    "\"\"\"\n",
    "CORREMOS ESTE CÓDIGO Y VERIFICAMOS NUESTRO DIRECTORIO PARA VER LOS ARCHIVOS CREADOS\n",
    "\"\"\"\n",
    "# ATENCIÓN"
   ]
  },
  {
   "cell_type": "markdown",
   "metadata": {},
   "source": [
    "Luego de verificar los resultados, borramos esos archivos: "
   ]
  },
  {
   "cell_type": "code",
   "execution_count": 8,
   "metadata": {},
   "outputs": [
    {
     "name": "stdout",
     "output_type": "stream",
     "text": [
      "test1.txt\n",
      "test2.txt\n",
      "test3.txt\n",
      "test4.txt\n",
      "test5.txt\n",
      "test6.txt\n",
      "test7.txt\n",
      "test8.txt\n",
      "test9.txt\n"
     ]
    },
    {
     "data": {
      "text/plain": [
       "'\\nCORREMOS EL CÓDIGO Y VERIFICAMOS NUESTRO DIRECTORIO SIN LOS TXT\\n'"
      ]
     },
     "execution_count": 8,
     "metadata": {},
     "output_type": "execute_result"
    }
   ],
   "source": [
    "#obtenemos l ruta actual con Path('.') y con .glob('*.txt') cualquier caracter que termine en txt en esa ubicación\n",
    "for path in Path('.').glob('*.txt'):\n",
    "    print(path)#muestra los actuales archivos de texto en el directorio\n",
    "    path.unlink()#método que elimina los archivos en path\n",
    "\n",
    "# ATENCIÓN\n",
    "\"\"\"\n",
    "CORREMOS EL CÓDIGO Y VERIFICAMOS NUESTRO DIRECTORIO SIN LOS TXT\n",
    "\"\"\"\n",
    "# ATENCIÓN"
   ]
  },
  {
   "cell_type": "markdown",
   "metadata": {},
   "source": [
    "Enseguida eliminaremos  multiples archivos de texto con excepción de uno: **test9.txt**\n",
    "\n",
    "Para realizar esto, es necesario volver a correr el primer código para generar nuevamente los archivos de texto"
   ]
  },
  {
   "cell_type": "code",
   "execution_count": 10,
   "metadata": {},
   "outputs": [
    {
     "name": "stdout",
     "output_type": "stream",
     "text": [
      "test1.txt\n",
      "test2.txt\n",
      "test3.txt\n",
      "test4.txt\n",
      "test5.txt\n",
      "test6.txt\n",
      "test7.txt\n",
      "test8.txt\n"
     ]
    },
    {
     "data": {
      "text/plain": [
       "'\\nAL CORRER EL CÓDIGO SE MOSTRARÁN LOS ARCHIVOS RECOGIDOS POR path Y SERÁN ESTOS LOS ELIMINADOS\\n'"
      ]
     },
     "execution_count": 10,
     "metadata": {},
     "output_type": "execute_result"
    }
   ],
   "source": [
    "for path in Path('.').glob('test[1-8].txt'):#dentro del corchete indicamos los caracteres a tomar en cuenta \n",
    "    print(path)#verificamos lo que rcogió el obj path\n",
    "    path.unlink()#ejecutamos los cambios\n",
    "\n",
    "# ATENCIÓN\n",
    "\"\"\"\n",
    "AL CORRER EL CÓDIGO SE MOSTRARÁN LOS ARCHIVOS RECOGIDOS POR path Y SERÁN ESTOS LOS ELIMINADOS\n",
    "\"\"\"\n",
    "# ATENCIÓN"
   ]
  }
 ],
 "metadata": {
  "kernelspec": {
   "display_name": "Python 3.10.5 64-bit",
   "language": "python",
   "name": "python3"
  },
  "language_info": {
   "codemirror_mode": {
    "name": "ipython",
    "version": 3
   },
   "file_extension": ".py",
   "mimetype": "text/x-python",
   "name": "python",
   "nbconvert_exporter": "python",
   "pygments_lexer": "ipython3",
   "version": "3.10.5"
  },
  "orig_nbformat": 4,
  "vscode": {
   "interpreter": {
    "hash": "0f1e7454989977e67024e29629c272aec4481f16d732c3b04e0afc459660b12c"
   }
  }
 },
 "nbformat": 4,
 "nbformat_minor": 2
}
